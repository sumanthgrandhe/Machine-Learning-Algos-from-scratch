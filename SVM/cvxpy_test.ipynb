{
 "cells": [
  {
   "cell_type": "code",
   "execution_count": 1,
   "metadata": {},
   "outputs": [],
   "source": [
    "import numpy as np\n",
    "import matplotlib.pyplot as plt\n",
    "import csv\n",
    "import cvxpy as cp"
   ]
  },
  {
   "cell_type": "code",
   "execution_count": 44,
   "metadata": {},
   "outputs": [
    {
     "name": "stdout",
     "output_type": "stream",
     "text": [
      "[-1.00049723e-03  2.78867474e-02  1.72324009e-03  3.67299258e-05\n",
      " -1.34110728e-03  1.49849244e-01 -6.94547812e-04  4.95171402e-04\n",
      "  2.46109612e-01  5.76052476e-01 -2.31429313e-03  2.33210221e-04\n",
      " -4.49099455e-04  2.25180894e-01 -9.46443449e-04 -4.96566507e-04\n",
      " -8.01071048e-04 -8.34661500e-04  7.72478759e-04 -2.09625000e-03]\n",
      "[ 1.09903552 -1.02492371  2.26933624  0.95084789  4.0133446   0.68365192\n",
      "  0.28785274  2.06516239  1.37049403 -2.56192713  0.28915791 -1.02321332\n",
      " -1.12096684  1.28940399  3.1629931   1.5340185  -1.031995    1.4154816\n",
      " -0.90756085  0.30574722]\n"
     ]
    }
   ],
   "source": [
    "# Problem data.\n",
    "m = 30\n",
    "n = 20\n",
    "np.random.seed(1)\n",
    "A = np.random.randn(m, n)\n",
    "b = np.random.randn(m)\n",
    "\n",
    "# Construct the problem.\n",
    "x = cp.Variable(n)\n",
    "objective = cp.Minimize(cp.sum_squares(A*x - b))\n",
    "constraints = [0 <= x, x <= 1]\n",
    "prob = cp.Problem(objective, constraints)\n",
    "\n",
    "# The optimal objective value is returned by `prob.solve()`.\n",
    "result = prob.solve()\n",
    "# The optimal value for x is stored in `x.value`.\n",
    "print(x.value)\n",
    "# The optimal Lagrange multiplier for a constraint is stored in\n",
    "# `constraint.dual_value`.\n",
    "print(constraints[0].dual_value)\n"
   ]
  },
  {
   "cell_type": "code",
   "execution_count": 55,
   "metadata": {},
   "outputs": [
    {
     "data": {
      "text/plain": [
       "array([ 1.00099470e-06, -5.58012269e-05,  7.74222485e-04,  9.60376259e-05,\n",
       "        7.70166097e-06, -3.74519157e-04,  8.35438504e-03,  4.76625738e-04,\n",
       "       -4.54433802e-04,  1.21734431e-02,  5.54379977e-02,  1.66440667e-03,\n",
       "       -4.62988108e-04,  7.17378944e-02,  1.84866127e-01, -5.26419094e-04,\n",
       "        6.12019301e-02,  2.82758119e-01,  3.98136187e-01, -3.10273342e-03,\n",
       "        1.63184407e-05,  1.10074619e-01,  2.58716547e-01, -2.13980103e-03,\n",
       "       -1.48693054e-03, -1.53047772e-03,  5.01272966e-02, -5.64144224e-04,\n",
       "       -2.64108409e-03, -3.49019179e-04, -3.75808304e-04,  3.52153255e-04,\n",
       "       -9.44062467e-04,  4.53803632e-06,  1.54089416e-06,  2.06897380e-06,\n",
       "        4.09604177e-06, -3.23861719e-06,  4.39426405e-06])"
      ]
     },
     "execution_count": 55,
     "metadata": {},
     "output_type": "execute_result"
    }
   ],
   "source": [
    "y = cp.conv(x.value,x.value)\n",
    "y.value"
   ]
  },
  {
   "cell_type": "code",
   "execution_count": null,
   "metadata": {},
   "outputs": [],
   "source": []
  },
  {
   "cell_type": "code",
   "execution_count": null,
   "metadata": {},
   "outputs": [],
   "source": []
  }
 ],
 "metadata": {
  "kernelspec": {
   "display_name": "Python 2",
   "language": "python",
   "name": "python2"
  },
  "language_info": {
   "codemirror_mode": {
    "name": "ipython",
    "version": 2
   },
   "file_extension": ".py",
   "mimetype": "text/x-python",
   "name": "python",
   "nbconvert_exporter": "python",
   "pygments_lexer": "ipython2",
   "version": "2.7.15"
  }
 },
 "nbformat": 4,
 "nbformat_minor": 2
}
