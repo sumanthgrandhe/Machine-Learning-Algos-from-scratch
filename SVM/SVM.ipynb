{
 "cells": [
  {
   "cell_type": "code",
   "execution_count": 61,
   "metadata": {},
   "outputs": [
    {
     "name": "stdout",
     "output_type": "stream",
     "text": [
      "[1, 1, 1, 1]\n"
     ]
    }
   ],
   "source": [
    "import numpy as np\n",
    "import matplotlib.pyplot as plt\n",
    "import cvxpy as cp\n",
    "\n",
    "X = np.genfromtxt('Xsvm.csv', delimiter = ',')\n",
    "Y = np.genfromtxt('Ysvm.csv', delimiter = ',')\n",
    "X = X.T\n",
    "\n",
    "y = np.append(Y, Y, axis = 0)\n",
    "y = np.reshape(y,(2,500))\n",
    "\n",
    "alpha = cp.Variable(500)\n",
    "a = cp.vstack([alpha, alpha])\n",
    "objective = cp.Maximize(cp.sum(alpha) - 0.5 * (cp.norm(cp.sum(cp.multiply(a, y*X), axis = 1)))**2)\n",
    "constraints = [alpha >= 0, cp.sum(alpha*Y) == 0]\n",
    "prob = cp.Problem(objective, constraints)\n",
    "result = prob.solve()\n",
    "\n",
    "alpha1 = np.append(alpha.value, alpha.value, axis = 0)\n",
    "alpha1 = np.reshape(alpha1, (2,500))\n",
    "\n",
    "w = np.matrix(np.sum(np.multiply(alpha1, y*X), axis = 1))\n",
    "\n",
    "condition = alpha.value > 1e-5\n",
    "val = np.extract(condition, alpha.value)\n",
    "index = np.where(alpha.value == val[0])\n",
    "\n",
    "w0 = Y[index] - w*np.matrix(X.T[index]).T\n",
    "\n",
    "X_test = (np.matrix([[2, 0.5], [0.8, 0.7], [1.58, 1.33], [0.008, 0.001]])).T\n",
    "\n",
    "y_hat = np.array(w*np.matrix(X_test) + w0)\n",
    "\n",
    "y_estimate = []\n",
    "for i in range (0,4):\n",
    "    if y_hat[0][i] > 0:\n",
    "        y_estimate.append(1)\n",
    "    else:\n",
    "        y_estimate.append(-1)\n",
    "        \n",
    "print y_estimate"
   ]
  }
 ],
 "metadata": {
  "kernelspec": {
   "display_name": "Python 2",
   "language": "python",
   "name": "python2"
  },
  "language_info": {
   "codemirror_mode": {
    "name": "ipython",
    "version": 2
   },
   "file_extension": ".py",
   "mimetype": "text/x-python",
   "name": "python",
   "nbconvert_exporter": "python",
   "pygments_lexer": "ipython2",
   "version": "2.7.15"
  }
 },
 "nbformat": 4,
 "nbformat_minor": 2
}
