{
 "cells": [
  {
   "cell_type": "markdown",
   "metadata": {},
   "source": [
    "# Importing Libraries"
   ]
  },
  {
   "cell_type": "code",
   "execution_count": 1,
   "metadata": {},
   "outputs": [],
   "source": [
    "from __future__ import division\n",
    "import numpy as np\n",
    "import matplotlib.pyplot as plt \n",
    "\n",
    "from sklearn.metrics import accuracy_score\n",
    "from sklearn.utils import shuffle\n",
    "from sklearn.datasets import load_wine\n",
    "from sklearn.model_selection import train_test_split\n",
    "np.random.seed(42)"
   ]
  },
  {
   "cell_type": "code",
   "execution_count": 2,
   "metadata": {},
   "outputs": [
    {
     "name": "stdout",
     "output_type": "stream",
     "text": [
      ".. _wine_dataset:\n",
      "\n",
      "Wine recognition dataset\n",
      "------------------------\n",
      "\n",
      "**Data Set Characteristics:**\n",
      "\n",
      "    :Number of Instances: 178 (50 in each of three classes)\n",
      "    :Number of Attributes: 13 numeric, predictive attributes and the class\n",
      "    :Attribute Information:\n",
      " \t\t- Alcohol\n",
      " \t\t- Malic acid\n",
      " \t\t- Ash\n",
      "\t\t- Alcalinity of ash  \n",
      " \t\t- Magnesium\n",
      "\t\t- Total phenols\n",
      " \t\t- Flavanoids\n",
      " \t\t- Nonflavanoid phenols\n",
      " \t\t- Proanthocyanins\n",
      "\t\t- Color intensity\n",
      " \t\t- Hue\n",
      " \t\t- OD280/OD315 of diluted wines\n",
      " \t\t- Proline\n",
      "\n",
      "    - class:\n",
      "            - class_0\n",
      "            - class_1\n",
      "            - class_2\n",
      "\t\t\n",
      "    :Summary Statistics:\n",
      "    \n",
      "    ============================= ==== ===== ======= =====\n",
      "                                   Min   Max   Mean     SD\n",
      "    ============================= ==== ===== ======= =====\n",
      "    Alcohol:                      11.0  14.8    13.0   0.8\n",
      "    Malic Acid:                   0.74  5.80    2.34  1.12\n",
      "    Ash:                          1.36  3.23    2.36  0.27\n",
      "    Alcalinity of Ash:            10.6  30.0    19.5   3.3\n",
      "    Magnesium:                    70.0 162.0    99.7  14.3\n",
      "    Total Phenols:                0.98  3.88    2.29  0.63\n",
      "    Flavanoids:                   0.34  5.08    2.03  1.00\n",
      "    Nonflavanoid Phenols:         0.13  0.66    0.36  0.12\n",
      "    Proanthocyanins:              0.41  3.58    1.59  0.57\n",
      "    Colour Intensity:              1.3  13.0     5.1   2.3\n",
      "    Hue:                          0.48  1.71    0.96  0.23\n",
      "    OD280/OD315 of diluted wines: 1.27  4.00    2.61  0.71\n",
      "    Proline:                       278  1680     746   315\n",
      "    ============================= ==== ===== ======= =====\n",
      "\n",
      "    :Missing Attribute Values: None\n",
      "    :Class Distribution: class_0 (59), class_1 (71), class_2 (48)\n",
      "    :Creator: R.A. Fisher\n",
      "    :Donor: Michael Marshall (MARSHALL%PLU@io.arc.nasa.gov)\n",
      "    :Date: July, 1988\n",
      "\n",
      "This is a copy of UCI ML Wine recognition datasets.\n",
      "https://archive.ics.uci.edu/ml/machine-learning-databases/wine/wine.data\n",
      "\n",
      "The data is the results of a chemical analysis of wines grown in the same\n",
      "region in Italy by three different cultivators. There are thirteen different\n",
      "measurements taken for different constituents found in the three types of\n",
      "wine.\n",
      "\n",
      "Original Owners: \n",
      "\n",
      "Forina, M. et al, PARVUS - \n",
      "An Extendible Package for Data Exploration, Classification and Correlation. \n",
      "Institute of Pharmaceutical and Food Analysis and Technologies,\n",
      "Via Brigata Salerno, 16147 Genoa, Italy.\n",
      "\n",
      "Citation:\n",
      "\n",
      "Lichman, M. (2013). UCI Machine Learning Repository\n",
      "[http://archive.ics.uci.edu/ml]. Irvine, CA: University of California,\n",
      "School of Information and Computer Science. \n",
      "\n",
      ".. topic:: References\n",
      "\n",
      "  (1) S. Aeberhard, D. Coomans and O. de Vel, \n",
      "  Comparison of Classifiers in High Dimensional Settings, \n",
      "  Tech. Rep. no. 92-02, (1992), Dept. of Computer Science and Dept. of  \n",
      "  Mathematics and Statistics, James Cook University of North Queensland. \n",
      "  (Also submitted to Technometrics). \n",
      "\n",
      "  The data was used with many others for comparing various \n",
      "  classifiers. The classes are separable, though only RDA \n",
      "  has achieved 100% correct classification. \n",
      "  (RDA : 100%, QDA 99.4%, LDA 98.9%, 1NN 96.1% (z-transformed data)) \n",
      "  (All results using the leave-one-out technique) \n",
      "\n",
      "  (2) S. Aeberhard, D. Coomans and O. de Vel, \n",
      "  \"THE CLASSIFICATION PERFORMANCE OF RDA\" \n",
      "  Tech. Rep. no. 92-01, (1992), Dept. of Computer Science and Dept. of \n",
      "  Mathematics and Statistics, James Cook University of North Queensland. \n",
      "  (Also submitted to Journal of Chemometrics).\n",
      "\n"
     ]
    }
   ],
   "source": [
    "print(load_wine().DESCR)"
   ]
  },
  {
   "cell_type": "code",
   "execution_count": 3,
   "metadata": {},
   "outputs": [],
   "source": [
    "wine_data = load_wine()\n",
    "X = wine_data.data\n",
    "Y = wine_data.target.reshape((-1,1))"
   ]
  },
  {
   "cell_type": "code",
   "execution_count": 4,
   "metadata": {},
   "outputs": [],
   "source": [
    "y = np.zeros((X.shape[0],3))\n",
    "for i in range(len(Y)):\n",
    "    y[i][Y[i]] = 1\n"
   ]
  },
  {
   "cell_type": "code",
   "execution_count": 5,
   "metadata": {},
   "outputs": [
    {
     "data": {
      "text/plain": [
       "(178, 13)"
      ]
     },
     "execution_count": 5,
     "metadata": {},
     "output_type": "execute_result"
    }
   ],
   "source": [
    "X = X.T\n",
    "for i in range(len(X)):\n",
    "    X[i] = X[i]/np.max(X[i])\n",
    "X = X.T\n",
    "X.shape"
   ]
  },
  {
   "cell_type": "code",
   "execution_count": 6,
   "metadata": {},
   "outputs": [],
   "source": [
    "(X,y) = shuffle(X,y,random_state = 40)"
   ]
  },
  {
   "cell_type": "code",
   "execution_count": 7,
   "metadata": {},
   "outputs": [],
   "source": [
    "X_train, X_test, Y_train, Y_test = train_test_split(X, y, test_size = 0.20)"
   ]
  },
  {
   "cell_type": "code",
   "execution_count": 8,
   "metadata": {},
   "outputs": [],
   "source": [
    "def relu(x):\n",
    "    x[x<0]=0\n",
    "    return x\n",
    "\n",
    "def softmax(x):\n",
    "    return np.exp(x)/(np.sum(np.exp(x),axis=0))\n",
    "\n",
    "def diff_relu(x):\n",
    "    y = np.zeros(x.shape)\n",
    "    y[x<=0] = 0\n",
    "    y[x>0] = 1\n",
    "    return y\n",
    "\n",
    "def weight_init(x,y):\n",
    "    return np.sqrt(2.0/(x+y))*np.random.normal(0,1,(x,y))"
   ]
  },
  {
   "cell_type": "code",
   "execution_count": 9,
   "metadata": {},
   "outputs": [],
   "source": [
    "inp_dim = 13\n",
    "hl1_units = 15\n",
    "hl2_units = 15\n",
    "out_dim = 3\n",
    "\n",
    "W1 = weight_init(hl1_units,inp_dim)\n",
    "b1 = weight_init(hl1_units,1)\n",
    "W2 = weight_init(hl2_units,hl1_units)\n",
    "b2 = weight_init(hl2_units,1)\n",
    "W3 = weight_init(out_dim,hl2_units)\n",
    "b3 = weight_init(out_dim,1)"
   ]
  },
  {
   "cell_type": "markdown",
   "metadata": {},
   "source": [
    "# Fitting training data using Nesterov Momentum approach"
   ]
  },
  {
   "cell_type": "code",
   "execution_count": 10,
   "metadata": {},
   "outputs": [
    {
     "name": "stdout",
     "output_type": "stream",
     "text": [
      "0: loss =[1.01007249]\n",
      "10: loss =[0.23823526]\n",
      "20: loss =[0.14447832]\n",
      "30: loss =[0.06722767]\n",
      "40: loss =[0.05404278]\n",
      "50: loss =[0.05291757]\n",
      "60: loss =[0.0487949]\n",
      "70: loss =[0.05589437]\n",
      "80: loss =[0.00826877]\n",
      "90: loss =[0.00526162]\n",
      "100: loss =[0.00335676]\n",
      "110: loss =[0.0029054]\n",
      "120: loss =[0.00258988]\n",
      "130: loss =[0.00223517]\n",
      "140: loss =[0.00169243]\n",
      "150: loss =[0.00136697]\n",
      "160: loss =[0.00074901]\n",
      "170: loss =[0.00056993]\n",
      "180: loss =[0.00048276]\n",
      "190: loss =[0.00042538]\n",
      "200: loss =[0.000386]\n",
      "210: loss =[0.00034996]\n",
      "220: loss =[0.0003236]\n",
      "230: loss =[0.00029771]\n",
      "240: loss =[0.00027999]\n",
      "250: loss =[0.00026095]\n",
      "260: loss =[0.00024284]\n",
      "270: loss =[0.00023131]\n",
      "280: loss =[0.00021978]\n",
      "290: loss =[0.00020752]\n",
      "300: loss =[0.0001981]\n",
      "310: loss =[0.00018808]\n",
      "320: loss =[0.0001815]\n",
      "330: loss =[0.00017393]\n",
      "340: loss =[0.00016613]\n",
      "350: loss =[0.00015925]\n",
      "360: loss =[0.00015504]\n",
      "370: loss =[0.00014792]\n",
      "380: loss =[0.0001443]\n",
      "390: loss =[0.00013844]\n",
      "400: loss =[0.00013359]\n",
      "410: loss =[0.00013009]\n",
      "420: loss =[0.00012596]\n",
      "430: loss =[0.00012238]\n",
      "440: loss =[0.00011826]\n",
      "450: loss =[0.00011497]\n",
      "460: loss =[0.0001123]\n",
      "470: loss =[0.00010923]\n",
      "480: loss =[0.00010648]\n",
      "490: loss =[0.00010372]\n"
     ]
    }
   ],
   "source": [
    "epochs = 500\n",
    "alpha = 0.5\n",
    "epsilon = 0.01\n",
    "\n",
    "for i in range(epochs):\n",
    "    (x_train,y_train) = shuffle(X_train,Y_train,random_state = 40)\n",
    "    loss = 0\n",
    "    v = {\"W1\":np.zeros(W1.shape), \"W2\": np.zeros(W2.shape), \"W3\": np.zeros(W3.shape), \"b1\":np.zeros(b1.shape), \"b2\":np.zeros(b2.shape), \"b3\":np.zeros(b3.shape)}\n",
    "    for j in range(0,len(x_train)):\n",
    "        W1 += alpha*v[\"W1\"]\n",
    "        b1 += alpha*v[\"b1\"]\n",
    "        W2 += alpha*v[\"W2\"]\n",
    "        b2 += alpha*v[\"b2\"]\n",
    "        W3 += alpha*v[\"W3\"]\n",
    "        b3 += alpha*v[\"b3\"]\n",
    "        \n",
    "        a1 = relu(np.matmul(W1,x_train[j]).reshape((-1,1)) + b1)\n",
    "        a2 = relu(np.matmul(W2,a1).reshape((-1,1)) + b2)\n",
    "        x = np.matmul(W3,a2) + b3\n",
    "        a3 = softmax(x)\n",
    "        loss += -np.log(a3[np.argmax(y_train[j])]) \n",
    "        \n",
    "        delta3 = a3 - y_train[j].reshape(-1,1)\n",
    "        delta2 = np.matmul(W3.T,delta3)*diff_relu(a2)\n",
    "        delta1 = np.matmul(W2.T,delta2)*diff_relu(a1)\n",
    "        \n",
    "        grd_b3 = delta3\n",
    "        grd_W3 = np.matmul(delta3,a2.T)\n",
    "        grd_b2 = delta2\n",
    "        grd_W2 = np.matmul(delta2,a1.T)\n",
    "        grd_b1 = delta1\n",
    "        grd_W1 = np.matmul(delta1,x_train[j].reshape((-1,1)).T)\n",
    "        \n",
    "        v[\"W1\"] = alpha*v[\"W1\"] - epsilon*grd_W1\n",
    "        v[\"b1\"] = alpha*v[\"b1\"] - epsilon*grd_b1\n",
    "        v[\"W2\"] = alpha*v[\"W2\"] - epsilon*grd_W2\n",
    "        v[\"b2\"] = alpha*v[\"b2\"] - epsilon*grd_b2\n",
    "        v[\"W3\"] = alpha*v[\"W3\"] - epsilon*grd_W3\n",
    "        v[\"b3\"] = alpha*v[\"b3\"] - epsilon*grd_b3\n",
    "        W1 += v[\"W1\"]\n",
    "        b1 += v[\"b1\"]\n",
    "        W2 += v[\"W2\"]\n",
    "        b2 += v[\"b2\"]\n",
    "        W3 += v[\"W3\"]\n",
    "        b3 += v[\"b3\"]\n",
    "        \n",
    "    if i%10 == 0:\n",
    "        print (str(i) + \":\" + \" loss =\" + str(loss/len(x_train)))"
   ]
  },
  {
   "cell_type": "markdown",
   "metadata": {},
   "source": [
    "# Measuring accuracy of model"
   ]
  },
  {
   "cell_type": "code",
   "execution_count": 11,
   "metadata": {},
   "outputs": [
    {
     "name": "stdout",
     "output_type": "stream",
     "text": [
      "actual out:[0, 1, 1, 0, 0, 2, 1, 0, 1, 1, 2, 0, 2, 1, 2, 0, 2, 0, 0, 1, 1, 1, 1, 2, 1, 0, 1, 1, 2, 0, 1, 1, 1, 0, 0, 2]\n",
      "predic out:[0, 1, 1, 0, 0, 2, 1, 0, 1, 1, 2, 0, 2, 1, 2, 0, 2, 0, 0, 1, 1, 1, 1, 2, 1, 0, 1, 0, 2, 0, 1, 1, 1, 0, 0, 2]\n"
     ]
    }
   ],
   "source": [
    "y_predicted = list()\n",
    "y_actual = list()\n",
    "for j in range(0,len(X_test)):\n",
    "    a1 = relu(np.matmul(W1,X_test[j]).reshape((-1,1)) + b1)\n",
    "    a2 = relu(np.matmul(W2,a1).reshape((-1,1)) + b2)\n",
    "    x = np.matmul(W3,a2) + b3\n",
    "    out = softmax(x)\n",
    "    y_predicted.append(np.argmax(out))\n",
    "    y_actual.append(np.argwhere(Y_test[j] == 1)[0][0])\n",
    "print (\"actual out:\"+str(y_actual))\n",
    "print (\"predic out:\"+str(y_predicted))"
   ]
  },
  {
   "cell_type": "markdown",
   "metadata": {},
   "source": [
    "# Comparision with SGD and Momentum approach"
   ]
  },
  {
   "cell_type": "markdown",
   "metadata": {},
   "source": [
    "### Loss obtained with 1000 epochs with SGD is nearly 0.00024098, in Momentum approach loss of 0.00020955 is achieved in 500 epochs where as in Nesterov case loss of 0.00010372 is achieved in 300 epochs which clearly shows that model converges at a faster rate using Nesterov momentum approach than that of using Momentum and SGD approach"
   ]
  }
 ],
 "metadata": {
  "kernelspec": {
   "display_name": "Python 2",
   "language": "python",
   "name": "python2"
  },
  "language_info": {
   "codemirror_mode": {
    "name": "ipython",
    "version": 2
   },
   "file_extension": ".py",
   "mimetype": "text/x-python",
   "name": "python",
   "nbconvert_exporter": "python",
   "pygments_lexer": "ipython2",
   "version": "2.7.15"
  }
 },
 "nbformat": 4,
 "nbformat_minor": 2
}
