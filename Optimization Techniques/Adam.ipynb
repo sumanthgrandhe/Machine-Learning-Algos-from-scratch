{
 "cells": [
  {
   "cell_type": "markdown",
   "metadata": {},
   "source": [
    "# Importing Libraries"
   ]
  },
  {
   "cell_type": "code",
   "execution_count": 1,
   "metadata": {},
   "outputs": [],
   "source": [
    "from __future__ import division\n",
    "import numpy as np\n",
    "import matplotlib.pyplot as plt \n",
    "\n",
    "from sklearn.metrics import accuracy_score\n",
    "from sklearn.utils import shuffle\n",
    "from sklearn.datasets import load_wine\n",
    "from sklearn.model_selection import train_test_split\n",
    "np.random.seed(42)"
   ]
  },
  {
   "cell_type": "code",
   "execution_count": 2,
   "metadata": {},
   "outputs": [
    {
     "name": "stdout",
     "output_type": "stream",
     "text": [
      ".. _wine_dataset:\n",
      "\n",
      "Wine recognition dataset\n",
      "------------------------\n",
      "\n",
      "**Data Set Characteristics:**\n",
      "\n",
      "    :Number of Instances: 178 (50 in each of three classes)\n",
      "    :Number of Attributes: 13 numeric, predictive attributes and the class\n",
      "    :Attribute Information:\n",
      " \t\t- Alcohol\n",
      " \t\t- Malic acid\n",
      " \t\t- Ash\n",
      "\t\t- Alcalinity of ash  \n",
      " \t\t- Magnesium\n",
      "\t\t- Total phenols\n",
      " \t\t- Flavanoids\n",
      " \t\t- Nonflavanoid phenols\n",
      " \t\t- Proanthocyanins\n",
      "\t\t- Color intensity\n",
      " \t\t- Hue\n",
      " \t\t- OD280/OD315 of diluted wines\n",
      " \t\t- Proline\n",
      "\n",
      "    - class:\n",
      "            - class_0\n",
      "            - class_1\n",
      "            - class_2\n",
      "\t\t\n",
      "    :Summary Statistics:\n",
      "    \n",
      "    ============================= ==== ===== ======= =====\n",
      "                                   Min   Max   Mean     SD\n",
      "    ============================= ==== ===== ======= =====\n",
      "    Alcohol:                      11.0  14.8    13.0   0.8\n",
      "    Malic Acid:                   0.74  5.80    2.34  1.12\n",
      "    Ash:                          1.36  3.23    2.36  0.27\n",
      "    Alcalinity of Ash:            10.6  30.0    19.5   3.3\n",
      "    Magnesium:                    70.0 162.0    99.7  14.3\n",
      "    Total Phenols:                0.98  3.88    2.29  0.63\n",
      "    Flavanoids:                   0.34  5.08    2.03  1.00\n",
      "    Nonflavanoid Phenols:         0.13  0.66    0.36  0.12\n",
      "    Proanthocyanins:              0.41  3.58    1.59  0.57\n",
      "    Colour Intensity:              1.3  13.0     5.1   2.3\n",
      "    Hue:                          0.48  1.71    0.96  0.23\n",
      "    OD280/OD315 of diluted wines: 1.27  4.00    2.61  0.71\n",
      "    Proline:                       278  1680     746   315\n",
      "    ============================= ==== ===== ======= =====\n",
      "\n",
      "    :Missing Attribute Values: None\n",
      "    :Class Distribution: class_0 (59), class_1 (71), class_2 (48)\n",
      "    :Creator: R.A. Fisher\n",
      "    :Donor: Michael Marshall (MARSHALL%PLU@io.arc.nasa.gov)\n",
      "    :Date: July, 1988\n",
      "\n",
      "This is a copy of UCI ML Wine recognition datasets.\n",
      "https://archive.ics.uci.edu/ml/machine-learning-databases/wine/wine.data\n",
      "\n",
      "The data is the results of a chemical analysis of wines grown in the same\n",
      "region in Italy by three different cultivators. There are thirteen different\n",
      "measurements taken for different constituents found in the three types of\n",
      "wine.\n",
      "\n",
      "Original Owners: \n",
      "\n",
      "Forina, M. et al, PARVUS - \n",
      "An Extendible Package for Data Exploration, Classification and Correlation. \n",
      "Institute of Pharmaceutical and Food Analysis and Technologies,\n",
      "Via Brigata Salerno, 16147 Genoa, Italy.\n",
      "\n",
      "Citation:\n",
      "\n",
      "Lichman, M. (2013). UCI Machine Learning Repository\n",
      "[http://archive.ics.uci.edu/ml]. Irvine, CA: University of California,\n",
      "School of Information and Computer Science. \n",
      "\n",
      ".. topic:: References\n",
      "\n",
      "  (1) S. Aeberhard, D. Coomans and O. de Vel, \n",
      "  Comparison of Classifiers in High Dimensional Settings, \n",
      "  Tech. Rep. no. 92-02, (1992), Dept. of Computer Science and Dept. of  \n",
      "  Mathematics and Statistics, James Cook University of North Queensland. \n",
      "  (Also submitted to Technometrics). \n",
      "\n",
      "  The data was used with many others for comparing various \n",
      "  classifiers. The classes are separable, though only RDA \n",
      "  has achieved 100% correct classification. \n",
      "  (RDA : 100%, QDA 99.4%, LDA 98.9%, 1NN 96.1% (z-transformed data)) \n",
      "  (All results using the leave-one-out technique) \n",
      "\n",
      "  (2) S. Aeberhard, D. Coomans and O. de Vel, \n",
      "  \"THE CLASSIFICATION PERFORMANCE OF RDA\" \n",
      "  Tech. Rep. no. 92-01, (1992), Dept. of Computer Science and Dept. of \n",
      "  Mathematics and Statistics, James Cook University of North Queensland. \n",
      "  (Also submitted to Journal of Chemometrics).\n",
      "\n"
     ]
    }
   ],
   "source": [
    "print(load_wine().DESCR)"
   ]
  },
  {
   "cell_type": "code",
   "execution_count": 3,
   "metadata": {},
   "outputs": [],
   "source": [
    "wine_data = load_wine()\n",
    "X = wine_data.data\n",
    "Y = wine_data.target.reshape((-1,1))"
   ]
  },
  {
   "cell_type": "code",
   "execution_count": 4,
   "metadata": {},
   "outputs": [],
   "source": [
    "y = np.zeros((X.shape[0],3))\n",
    "for i in range(len(Y)):\n",
    "    y[i][Y[i]] = 1\n"
   ]
  },
  {
   "cell_type": "code",
   "execution_count": 5,
   "metadata": {},
   "outputs": [
    {
     "data": {
      "text/plain": [
       "(178, 13)"
      ]
     },
     "execution_count": 5,
     "metadata": {},
     "output_type": "execute_result"
    }
   ],
   "source": [
    "X = X.T\n",
    "for i in range(len(X)):\n",
    "    X[i] = X[i]/np.max(X[i])\n",
    "X = X.T\n",
    "X.shape"
   ]
  },
  {
   "cell_type": "code",
   "execution_count": 6,
   "metadata": {},
   "outputs": [],
   "source": [
    "(X,y) = shuffle(X,y,random_state = 40)"
   ]
  },
  {
   "cell_type": "code",
   "execution_count": 7,
   "metadata": {},
   "outputs": [],
   "source": [
    "X_train, X_test, Y_train, Y_test = train_test_split(X, y, test_size = 0.20)"
   ]
  },
  {
   "cell_type": "code",
   "execution_count": 8,
   "metadata": {},
   "outputs": [],
   "source": [
    "def relu(x):\n",
    "    x[x<0]=0\n",
    "    return x\n",
    "\n",
    "def softmax(x):\n",
    "    return np.exp(x)/(np.sum(np.exp(x),axis=0))\n",
    "\n",
    "def diff_relu(x):\n",
    "    y = np.zeros(x.shape)\n",
    "    y[x<=0] = 0\n",
    "    y[x>0] = 1\n",
    "    return y\n",
    "\n",
    "def weight_init(x,y):\n",
    "    return np.sqrt(2.0/(x+y))*np.random.normal(0,1,(x,y))"
   ]
  },
  {
   "cell_type": "code",
   "execution_count": 9,
   "metadata": {},
   "outputs": [],
   "source": [
    "inp_dim = 13\n",
    "hl1_units = 15\n",
    "hl2_units = 15\n",
    "out_dim = 3\n",
    "\n",
    "W1 = weight_init(hl1_units,inp_dim)\n",
    "b1 = weight_init(hl1_units,1)\n",
    "W2 = weight_init(hl2_units,hl1_units)\n",
    "b2 = weight_init(hl2_units,1)\n",
    "W3 = weight_init(out_dim,hl2_units)\n",
    "b3 = weight_init(out_dim,1)"
   ]
  },
  {
   "cell_type": "markdown",
   "metadata": {},
   "source": [
    "# Fitting training data using Adam approach for adaptive learning rate"
   ]
  },
  {
   "cell_type": "code",
   "execution_count": 10,
   "metadata": {},
   "outputs": [
    {
     "name": "stdout",
     "output_type": "stream",
     "text": [
      "0: loss =[1.10329907]\n",
      "10: loss =[0.34852205]\n",
      "20: loss =[0.18121837]\n",
      "30: loss =[0.1222222]\n",
      "40: loss =[0.08993276]\n",
      "50: loss =[0.06847813]\n",
      "60: loss =[0.05585418]\n",
      "70: loss =[0.04489173]\n",
      "80: loss =[0.03662108]\n",
      "90: loss =[0.02976965]\n",
      "100: loss =[0.02517135]\n",
      "110: loss =[0.02158477]\n",
      "120: loss =[0.01995091]\n",
      "130: loss =[0.01820445]\n",
      "140: loss =[0.01627512]\n",
      "150: loss =[0.01485278]\n",
      "160: loss =[0.0137053]\n",
      "170: loss =[0.01282053]\n",
      "180: loss =[0.00938519]\n",
      "190: loss =[0.01054907]\n",
      "200: loss =[0.01340968]\n",
      "210: loss =[0.00673754]\n",
      "220: loss =[0.00416276]\n",
      "230: loss =[0.00623627]\n",
      "240: loss =[0.02368546]\n",
      "250: loss =[0.00315239]\n",
      "260: loss =[0.00072088]\n",
      "270: loss =[0.00336858]\n",
      "280: loss =[0.00047611]\n"
     ]
    }
   ],
   "source": [
    "epochs = 290\n",
    "epsilon = 0.001\n",
    "delta = 1e-8\n",
    "rho1 = 0.9\n",
    "decay_rate = 0.999\n",
    "\n",
    "for i in range(epochs):\n",
    "    (x_train,y_train) = shuffle(X_train,Y_train,random_state = 40)\n",
    "    loss = 0\n",
    "    \n",
    "    v = {\"W1\":np.zeros(W1.shape), \"W2\": np.zeros(W2.shape), \"W3\": np.zeros(W3.shape), \"b1\":np.zeros(b1.shape), \"b2\":np.zeros(b2.shape), \"b3\":np.zeros(b3.shape)}\n",
    "    \n",
    "    r = {\"W1\":np.zeros(W1.shape), \"W2\": np.zeros(W2.shape), \"W3\": np.zeros(W3.shape), \"b1\":np.zeros(b1.shape), \"b2\":np.zeros(b2.shape), \"b3\":np.zeros(b3.shape)}\n",
    "    for j in range(0,len(x_train)):\n",
    "        \n",
    "        a1 = relu(np.matmul(W1,x_train[j]).reshape((-1,1)) + b1)\n",
    "        a2 = relu(np.matmul(W2,a1).reshape((-1,1)) + b2)\n",
    "        x = np.matmul(W3,a2) + b3\n",
    "        a3 = softmax(x)\n",
    "        loss += -np.log(a3[np.argmax(y_train[j])]) \n",
    "        \n",
    "        delta3 = a3 - y_train[j].reshape(-1,1)\n",
    "        delta2 = np.matmul(W3.T,delta3)*diff_relu(a2)\n",
    "        delta1 = np.matmul(W2.T,delta2)*diff_relu(a1)\n",
    "        \n",
    "        grd_b3 = delta3\n",
    "        grd_W3 = np.matmul(delta3,a2.T)\n",
    "        grd_b2 = delta2\n",
    "        grd_W2 = np.matmul(delta2,a1.T)\n",
    "        grd_b1 = delta1\n",
    "        grd_W1 = np.matmul(delta1,x_train[j].reshape((-1,1)).T)\n",
    "        \n",
    "        v[\"W1\"] = rho1*v[\"W1\"] + (1-rho1)*grd_W1\n",
    "        v[\"b1\"] = rho1*v[\"b1\"] + (1-rho1)*grd_b1\n",
    "        v[\"W2\"] = rho1*v[\"W2\"] + (1-rho1)*grd_W2\n",
    "        v[\"b2\"] = rho1*v[\"b2\"] + (1-rho1)*grd_b2\n",
    "        v[\"W3\"] = rho1*v[\"W3\"] + (1-rho1)*grd_W3\n",
    "        v[\"b3\"] = rho1*v[\"b3\"] + (1-rho1)*grd_b3\n",
    "        \n",
    "        r[\"W1\"] = decay_rate*r[\"W1\"]+(1-decay_rate)*(grd_W1*grd_W1)\n",
    "        r[\"b1\"] = decay_rate*r[\"b1\"]+(1-decay_rate)*(grd_b1*grd_b1)\n",
    "        r[\"W2\"] = decay_rate*r[\"W2\"]+(1-decay_rate)*(grd_W2*grd_W2)\n",
    "        r[\"b2\"] = decay_rate*r[\"b2\"]+(1-decay_rate)*(grd_b2*grd_b2)\n",
    "        r[\"W3\"] = decay_rate*r[\"W3\"]+(1-decay_rate)*(grd_W3*grd_W3)\n",
    "        r[\"b3\"] = decay_rate*r[\"b3\"]+(1-decay_rate)*(grd_b3*grd_b3)\n",
    "        \n",
    "        W1 += -epsilon*(v[\"W1\"]/(1-rho1**(j+1)))/np.sqrt(delta+(r[\"W1\"])/(1-decay_rate**(j+1)))\n",
    "        b1 += -epsilon*(v[\"b1\"]/(1-rho1**(j+1)))/np.sqrt(delta+(r[\"b1\"])/(1-decay_rate**(j+1)))\n",
    "        W2 += -epsilon*(v[\"W2\"]/(1-rho1**(j+1)))/np.sqrt(delta+(r[\"W2\"])/(1-decay_rate**(j+1)))\n",
    "        b2 += -epsilon*(v[\"b2\"]/(1-rho1**(j+1)))/np.sqrt(delta+(r[\"b2\"])/(1-decay_rate**(j+1)))\n",
    "        W3 += -epsilon*(v[\"W3\"]/(1-rho1**(j+1)))/np.sqrt(delta+(r[\"W3\"])/(1-decay_rate**(j+1)))\n",
    "        b3 += -epsilon*(v[\"b3\"]/(1-rho1**(j+1)))/np.sqrt(delta+(r[\"b3\"])/(1-decay_rate**(j+1)))\n",
    "        \n",
    "    if i%10 == 0:\n",
    "        print (str(i) + \":\" + \" loss =\" + str(loss/len(x_train)))"
   ]
  },
  {
   "cell_type": "markdown",
   "metadata": {},
   "source": [
    "# Model Accuracy"
   ]
  },
  {
   "cell_type": "code",
   "execution_count": 11,
   "metadata": {},
   "outputs": [
    {
     "name": "stdout",
     "output_type": "stream",
     "text": [
      "actual out:[0, 1, 1, 0, 0, 2, 1, 0, 1, 1, 2, 0, 2, 1, 2, 0, 2, 0, 0, 1, 1, 1, 1, 2, 1, 0, 1, 1, 2, 0, 1, 1, 1, 0, 0, 2]\n",
      "predic out:[0, 1, 1, 0, 0, 2, 1, 0, 1, 1, 2, 0, 2, 1, 2, 0, 2, 0, 0, 1, 0, 1, 1, 2, 1, 0, 1, 0, 2, 0, 1, 1, 1, 0, 0, 2]\n"
     ]
    }
   ],
   "source": [
    "y_predicted = list()\n",
    "y_actual = list()\n",
    "for j in range(0,len(X_test)):\n",
    "    a1 = relu(np.matmul(W1,X_test[j]).reshape((-1,1)) + b1)\n",
    "    a2 = relu(np.matmul(W2,a1).reshape((-1,1)) + b2)\n",
    "    x = np.matmul(W3,a2) + b3\n",
    "    out = softmax(x)\n",
    "    y_predicted.append(np.argmax(out))\n",
    "    y_actual.append(np.argwhere(Y_test[j] == 1)[0][0])\n",
    "print (\"actual out:\"+str(y_actual))\n",
    "print (\"predic out:\"+str(y_predicted))"
   ]
  },
  {
   "cell_type": "markdown",
   "metadata": {},
   "source": [
    "# Comparision with RMSProp and Adagrad approach"
   ]
  },
  {
   "cell_type": "markdown",
   "metadata": {},
   "source": [
    "### Loss obtained with 1000 epochs with Adagrad is nearly 0.02452002 and in RMSProp approach loss of 0.00336388 is achieved in 300 epochs where as in Adam approach a loss of 0.00047611 is achieved in 290 epochs which clearly shows that model converges at a faster rate using RMSProp approach than that with RMSProp and Adagrad approach"
   ]
  }
 ],
 "metadata": {
  "kernelspec": {
   "display_name": "Python 2",
   "language": "python",
   "name": "python2"
  },
  "language_info": {
   "codemirror_mode": {
    "name": "ipython",
    "version": 2
   },
   "file_extension": ".py",
   "mimetype": "text/x-python",
   "name": "python",
   "nbconvert_exporter": "python",
   "pygments_lexer": "ipython2",
   "version": "2.7.15"
  }
 },
 "nbformat": 4,
 "nbformat_minor": 2
}
