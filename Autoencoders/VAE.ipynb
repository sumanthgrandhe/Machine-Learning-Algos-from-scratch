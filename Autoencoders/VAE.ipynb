{
 "cells": [
  {
   "cell_type": "markdown",
   "metadata": {},
   "source": [
    "# Importing Libraries"
   ]
  },
  {
   "cell_type": "code",
   "execution_count": 1,
   "metadata": {},
   "outputs": [],
   "source": [
    "from __future__ import division\n",
    "import numpy as np\n",
    "from scipy.misc import imread\n",
    "import os"
   ]
  },
  {
   "cell_type": "markdown",
   "metadata": {},
   "source": [
    "# Declaration of Variables"
   ]
  },
  {
   "cell_type": "code",
   "execution_count": 2,
   "metadata": {},
   "outputs": [],
   "source": [
    "X = np.load(\"train_samples.npy\")\n",
    "\n",
    "X = X/127\n",
    "\n",
    "N = X.shape[0]\n",
    "\n",
    "D = X.shape[1]\n",
    "# No. of hidden nodes in the network\n",
    "M = 10\n",
    "# learning rate\n",
    "r = 0.001\n",
    "\n",
    "iterations = 300\n",
    "\n",
    "# sparsity constraint\n",
    "p = 0.001 \n",
    "\n",
    "lam = 0.01\n",
    "\n",
    "noise = 1e-4"
   ]
  },
  {
   "cell_type": "markdown",
   "metadata": {},
   "source": [
    "# Definitions of required functions"
   ]
  },
  {
   "cell_type": "code",
   "execution_count": 3,
   "metadata": {},
   "outputs": [],
   "source": [
    "# sigmoid of given array or value\n",
    "def sigmoid(arr):\n",
    "    return 1/(1+np.exp(-arr))\n",
    "# derivative of sigmoid\n",
    "def diff_sigmoid(arr):\n",
    "    return (sigmoid(arr)-(sigmoid(arr)**2))\n",
    "# argument to sigmoid function above that are required in the algorithm\n",
    "def arg_sigmoid(arr,w_arr,bias):\n",
    "    return np.matmul(arr,w_arr) + bias"
   ]
  },
  {
   "cell_type": "markdown",
   "metadata": {},
   "source": [
    "# Initialization of Parameters"
   ]
  },
  {
   "cell_type": "code",
   "execution_count": 4,
   "metadata": {},
   "outputs": [],
   "source": [
    "alpha = np.random.normal(0,noise,(D, M))\n",
    "\n",
    "alpha_bias = np.random.normal(0,noise,(1, M))\n",
    "\n",
    "beta = np.random.normal(0,noise,(M, D))\n",
    "\n",
    "beta_bias = np.random.normal(0,noise,(1, D))\n",
    "\n",
    "gamma = np.random.normal(0,noise,(D, M))\n",
    "\n",
    "gamma_bias = np.random.normal(0,noise,(1, M))"
   ]
  },
  {
   "cell_type": "markdown",
   "metadata": {},
   "source": [
    "# Gradient Descent"
   ]
  },
  {
   "cell_type": "code",
   "execution_count": 14,
   "metadata": {},
   "outputs": [
    {
     "name": "stdout",
     "output_type": "stream",
     "text": [
      "(600, 10)\n"
     ]
    },
    {
     "ename": "ValueError",
     "evalue": "shapes (600,10) and (600,10) not aligned: 10 (dim 1) != 600 (dim 0)",
     "output_type": "error",
     "traceback": [
      "\u001b[0;31m---------------------------------------------------------------------------\u001b[0m",
      "\u001b[0;31mValueError\u001b[0m                                Traceback (most recent call last)",
      "\u001b[0;32m<ipython-input-14-7181c2356372>\u001b[0m in \u001b[0;36m<module>\u001b[0;34m()\u001b[0m\n\u001b[1;32m     33\u001b[0m     \u001b[0ma_bias\u001b[0m \u001b[0;34m=\u001b[0m \u001b[0mnp\u001b[0m\u001b[0;34m.\u001b[0m\u001b[0msum\u001b[0m\u001b[0;34m(\u001b[0m\u001b[0ms_m_alpha\u001b[0m\u001b[0;34m,\u001b[0m\u001b[0maxis\u001b[0m\u001b[0;34m=\u001b[0m\u001b[0;36m0\u001b[0m\u001b[0;34m)\u001b[0m\u001b[0;34m.\u001b[0m\u001b[0mreshape\u001b[0m\u001b[0;34m(\u001b[0m\u001b[0;34m(\u001b[0m\u001b[0;36m1\u001b[0m\u001b[0;34m,\u001b[0m \u001b[0mM\u001b[0m\u001b[0;34m)\u001b[0m\u001b[0;34m)\u001b[0m\u001b[0;34m\u001b[0m\u001b[0m\n\u001b[1;32m     34\u001b[0m \u001b[0;34m\u001b[0m\u001b[0m\n\u001b[0;32m---> 35\u001b[0;31m     \u001b[0ma\u001b[0m \u001b[0;34m=\u001b[0m \u001b[0mnp\u001b[0m\u001b[0;34m.\u001b[0m\u001b[0mmatmul\u001b[0m\u001b[0;34m(\u001b[0m\u001b[0mX\u001b[0m\u001b[0;34m.\u001b[0m\u001b[0mT\u001b[0m\u001b[0;34m,\u001b[0m\u001b[0ms_m_alpha\u001b[0m\u001b[0;34m)\u001b[0m \u001b[0;34m+\u001b[0m \u001b[0mnp\u001b[0m\u001b[0;34m.\u001b[0m\u001b[0mmatmul\u001b[0m\u001b[0;34m(\u001b[0m\u001b[0mX\u001b[0m\u001b[0;34m.\u001b[0m\u001b[0mT\u001b[0m\u001b[0;34m,\u001b[0m \u001b[0mnp\u001b[0m\u001b[0;34m.\u001b[0m\u001b[0mmatmul\u001b[0m\u001b[0;34m(\u001b[0m\u001b[0mmu\u001b[0m\u001b[0;34m,\u001b[0m \u001b[0mdiff_sigmoid\u001b[0m\u001b[0;34m(\u001b[0m\u001b[0mmu_mat\u001b[0m\u001b[0;34m)\u001b[0m\u001b[0;34m)\u001b[0m\u001b[0;34m)\u001b[0m\u001b[0;34m\u001b[0m\u001b[0m\n\u001b[0m\u001b[1;32m     36\u001b[0m \u001b[0;34m\u001b[0m\u001b[0m\n\u001b[1;32m     37\u001b[0m     \u001b[0ms_m_gamma\u001b[0m \u001b[0;34m=\u001b[0m \u001b[0;34m(\u001b[0m\u001b[0mdiff_sigmoid\u001b[0m\u001b[0;34m(\u001b[0m\u001b[0msigma_mat\u001b[0m\u001b[0;34m)\u001b[0m\u001b[0;34m*\u001b[0m\u001b[0mnp\u001b[0m\u001b[0;34m.\u001b[0m\u001b[0mmatmul\u001b[0m\u001b[0;34m(\u001b[0m\u001b[0mdelta\u001b[0m\u001b[0;34m,\u001b[0m\u001b[0mbeta\u001b[0m\u001b[0;34m.\u001b[0m\u001b[0mT\u001b[0m\u001b[0;34m)\u001b[0m\u001b[0;34m)\u001b[0m\u001b[0;34m\u001b[0m\u001b[0m\n",
      "\u001b[0;31mValueError\u001b[0m: shapes (600,10) and (600,10) not aligned: 10 (dim 1) != 600 (dim 0)"
     ]
    }
   ],
   "source": [
    "for i in range(iterations):\n",
    "    \n",
    "    mu_mat = arg_sigmoid(X,alpha,alpha_bias)\n",
    "    mu = sigmoid(mu_mat)\n",
    "    \n",
    "    sigma_mat = arg_sigmoid(X,alpha,alpha_bias)\n",
    "    sigma = sigmoid(sigma_mat)\n",
    "    \n",
    "#     z = np.multiply((np.asmatrix(np.random.multivariate_normal(np.zeros(M) , noise*np.eye(M)))) , np.exp(0.5*sigma)) + mu\n",
    "    z = np.multiply(np.repeat(np.asmatrix((np.random.multivariate_normal(np.zeros(M) , np.eye(M)))), N, axis = 0), np.exp(0.5*sigma)) + mu\n",
    "    print(z.shape)\n",
    "#     z_bias = np.ones((1, M))\n",
    "#     z_mat = arg_sigmoid(X,alpha,alpha_bias)\n",
    "#     z = sigmoid(z_mat)\n",
    "    \n",
    "    yhat_mat = arg_sigmoid(z,beta,beta_bias)\n",
    "    \n",
    "    X_hat = sigmoid(yhat_mat)\n",
    "    \n",
    "    delta = np.array((X_hat - X))*diff_sigmoid(np.array(yhat_mat))\n",
    "#     delta2 = arg_sigmoid(z,delta, z_bias)\n",
    "    \n",
    "    b_bias = np.sum(delta, axis = 0).reshape((1, D))\n",
    "    \n",
    "    b = np.matmul(z.T,delta)\n",
    "    \n",
    "#     zm = np.mean(z,axis = 0)\n",
    "# constraint due to sparsity condition    \n",
    "#     constraint = (lam)*(-p/zm + (1-p)/(1-zm))*diff_sigmoid(z_mat)\n",
    "    \n",
    "    s_m_alpha = (diff_sigmoid(mu_mat)*np.matmul(delta,beta.T))\n",
    "    \n",
    "    a_bias = np.sum(s_m_alpha,axis=0).reshape((1, M))\n",
    "    \n",
    "    a = np.matmul(X.T,s_m_alpha) + np.matmul(X.T, np.matmul(mu, diff_sigmoid(mu_mat)))\n",
    "    \n",
    "    s_m_gamma = (diff_sigmoid(sigma_mat)*np.matmul(delta,beta.T))\n",
    "    \n",
    "    g_bias = np.sum(s_m_gamma,axis=0).reshape((1, M))\n",
    "    \n",
    "    g = np.matmul(X.T,0.5*np.matmul(s_m_gamma, np.exp(0.5*sigma))) + np.matmul(np.exp(sigma), diff_sigmoid(sigma_mat)) - diff_sigmoid(sigma_mat)\n",
    "# Backpropagation    \n",
    "    alpha = alpha - r*a\n",
    "    \n",
    "    alpha_bias = alpha_bias - r*a_bias\n",
    "    \n",
    "    beta = beta - r*b\n",
    "    \n",
    "    beta_bias = beta_bias - r*b_bias\n",
    "    \n",
    "    gamma = gamma - r*g\n",
    "    \n",
    "    gamma_bias = gamma_bias - r*g_bias\n",
    "    \n",
    "# z_mat = arg_sigmoid(X,alpha,alpha_bias)\n",
    "\n",
    "# z = sigmoid(z_mat)\n",
    "\n",
    "yhat_mat = arg_sigmoid(z,beta,beta_bias)\n",
    "\n",
    "X_hat = sigmoid(yhat_mat)\n",
    "\n",
    "X_hat = X_hat*127"
   ]
  },
  {
   "cell_type": "markdown",
   "metadata": {},
   "source": [
    "# Actual Input vs Estimated Input"
   ]
  },
  {
   "cell_type": "code",
   "execution_count": 10,
   "metadata": {},
   "outputs": [
    {
     "data": {
      "text/plain": [
       "<matplotlib.image.AxesImage at 0x7fa656f23c10>"
      ]
     },
     "execution_count": 10,
     "metadata": {},
     "output_type": "execute_result"
    },
    {
     "data": {
      "image/png": "[encoded data removed]",
      "text/plain": [
       "<Figure size 432x288 with 1 Axes>"
      ]
     },
     "metadata": {},
     "output_type": "display_data"
    }
   ],
   "source": [
    "import matplotlib.pyplot as plt\n",
    "plt.imshow(X[0,:].reshape(28,28) , cmap='gray')"
   ]
  },
  {
   "cell_type": "code",
   "execution_count": 11,
   "metadata": {},
   "outputs": [
    {
     "data": {
      "text/plain": [
       "<matplotlib.image.AxesImage at 0x7fa656e95810>"
      ]
     },
     "execution_count": 11,
     "metadata": {},
     "output_type": "execute_result"
    },
    {
     "data": {
      "image/png": "[encoded data removed]",
      "text/plain": [
       "<Figure size 432x288 with 1 Axes>"
      ]
     },
     "metadata": {},
     "output_type": "display_data"
    }
   ],
   "source": [
    "plt.imshow(X_hat[0,:].reshape(28,28), cmap = 'gray')"
   ]
  },
  {
   "cell_type": "code",
   "execution_count": 12,
   "metadata": {},
   "outputs": [
    {
     "data": {
      "text/plain": [
       "<matplotlib.image.AxesImage at 0x7fa656e09490>"
      ]
     },
     "execution_count": 12,
     "metadata": {},
     "output_type": "execute_result"
    },
    {
     "data": {
      "image/png": "[encoded data removed]",
      "text/plain": [
       "<Figure size 432x288 with 1 Axes>"
      ]
     },
     "metadata": {},
     "output_type": "display_data"
    }
   ],
   "source": [
    "plt.imshow(X[1,:].reshape(28,28) , cmap='gray')"
   ]
  },
  {
   "cell_type": "code",
   "execution_count": 13,
   "metadata": {},
   "outputs": [
    {
     "data": {
      "text/plain": [
       "<matplotlib.image.AxesImage at 0x7fa656d7b110>"
      ]
     },
     "execution_count": 13,
     "metadata": {},
     "output_type": "execute_result"
    },
    {
     "data": {
      "image/png": "[encoded data removed]",
      "text/plain": [
       "<Figure size 432x288 with 1 Axes>"
      ]
     },
     "metadata": {},
     "output_type": "display_data"
    }
   ],
   "source": [
    "plt.imshow(X_hat[1,:].reshape(28,28) , cmap='gray')"
   ]
  },
  {
   "cell_type": "code",
   "execution_count": 14,
   "metadata": {},
   "outputs": [
    {
     "data": {
      "text/plain": [
       "<matplotlib.image.AxesImage at 0x7fa656d61d10>"
      ]
     },
     "execution_count": 14,
     "metadata": {},
     "output_type": "execute_result"
    },
    {
     "data": {
      "image/png": "[encoded data removed]",
      "text/plain": [
       "<Figure size 432x288 with 1 Axes>"
      ]
     },
     "metadata": {},
     "output_type": "display_data"
    }
   ],
   "source": [
    "plt.imshow(X[2,:].reshape(28,28) , cmap='gray')"
   ]
  },
  {
   "cell_type": "code",
   "execution_count": 15,
   "metadata": {},
   "outputs": [
    {
     "data": {
      "text/plain": [
       "<matplotlib.image.AxesImage at 0x7fa656cd49d0>"
      ]
     },
     "execution_count": 15,
     "metadata": {},
     "output_type": "execute_result"
    },
    {
     "data": {
      "image/png": "[encoded data removed]",
      "text/plain": [
       "<Figure size 432x288 with 1 Axes>"
      ]
     },
     "metadata": {},
     "output_type": "display_data"
    }
   ],
   "source": [
    "plt.imshow(X_hat[2,:].reshape(28,28) , cmap='gray')"
   ]
  },
  {
   "cell_type": "code",
   "execution_count": 17,
   "metadata": {},
   "outputs": [
    {
     "data": {
      "text/plain": [
       "<matplotlib.image.AxesImage at 0x7fa656bb92d0>"
      ]
     },
     "execution_count": 17,
     "metadata": {},
     "output_type": "execute_result"
    },
    {
     "data": {
      "image/png": "[encoded data removed]",
      "text/plain": [
       "<Figure size 432x288 with 1 Axes>"
      ]
     },
     "metadata": {},
     "output_type": "display_data"
    }
   ],
   "source": [
    "plt.imshow(X[4,:].reshape(28,28) , cmap='gray')"
   ]
  },
  {
   "cell_type": "code",
   "execution_count": 18,
   "metadata": {},
   "outputs": [
    {
     "data": {
      "text/plain": [
       "<matplotlib.image.AxesImage at 0x7fa656ba2f10>"
      ]
     },
     "execution_count": 18,
     "metadata": {},
     "output_type": "execute_result"
    },
    {
     "data": {
      "image/png": "[encoded data removed]",
      "text/plain": [
       "<Figure size 432x288 with 1 Axes>"
      ]
     },
     "metadata": {},
     "output_type": "display_data"
    }
   ],
   "source": [
    "plt.imshow(X_hat[4,:].reshape(28,28) , cmap='gray')"
   ]
  }
 ],
 "metadata": {
  "kernelspec": {
   "display_name": "Python 2",
   "language": "python",
   "name": "python2"
  },
  "language_info": {
   "codemirror_mode": {
    "name": "ipython",
    "version": 2
   },
   "file_extension": ".py",
   "mimetype": "text/x-python",
   "name": "python",
   "nbconvert_exporter": "python",
   "pygments_lexer": "ipython2",
   "version": "2.7.15"
  }
 },
 "nbformat": 4,
 "nbformat_minor": 2
}
